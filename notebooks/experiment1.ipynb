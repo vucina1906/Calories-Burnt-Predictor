{
 "cells": [
  {
   "cell_type": "markdown",
   "id": "85b7d05b",
   "metadata": {
    "ExecuteTime": {
     "end_time": "2025-04-05T08:50:30.135742Z",
     "start_time": "2025-04-05T08:50:30.125105Z"
    }
   },
   "source": [
    "### Importing the Dependencies"
   ]
  },
  {
   "cell_type": "code",
   "execution_count": 19,
   "id": "12447991",
   "metadata": {
    "ExecuteTime": {
     "end_time": "2025-04-05T09:45:31.620463Z",
     "start_time": "2025-04-05T09:45:28.976713Z"
    }
   },
   "outputs": [],
   "source": [
    "import numpy as np\n",
    "import pandas as pd\n",
    "import matplotlib.pyplot as plt\n",
    "import seaborn as sns\n",
    "from sklearn.model_selection import train_test_split\n",
    "from xgboost import XGBRegressor\n",
    "from sklearn import metrics\n",
    "from sklearn.preprocessing import StandardScaler\n",
    "from sklearn.model_selection import GridSearchCV, cross_val_score\n",
    "from sklearn.metrics import mean_squared_error, r2_score\n",
    "from sklearn.preprocessing import LabelEncoder\n",
    "import joblib\n",
    "import os \n",
    "import mlflow\n",
    "import mlflow.sklearn\n",
    "import logging\n",
    "import time\n",
    "import os\n",
    "from xgboost import XGBRegressor\n",
    "from sklearn.metrics import mean_absolute_error, mean_squared_error, r2_score\n",
    "import dagshub\n",
    "import numpy as np"
   ]
  },
  {
   "cell_type": "markdown",
   "id": "7c42316b",
   "metadata": {},
   "source": [
    "### Data Collection"
   ]
  },
  {
   "cell_type": "code",
   "execution_count": 4,
   "id": "8082de92",
   "metadata": {
    "ExecuteTime": {
     "end_time": "2025-04-05T09:45:34.185968Z",
     "start_time": "2025-04-05T09:45:34.149345Z"
    }
   },
   "outputs": [
    {
     "data": {
      "text/html": [
       "<div>\n",
       "<style scoped>\n",
       "    .dataframe tbody tr th:only-of-type {\n",
       "        vertical-align: middle;\n",
       "    }\n",
       "\n",
       "    .dataframe tbody tr th {\n",
       "        vertical-align: top;\n",
       "    }\n",
       "\n",
       "    .dataframe thead th {\n",
       "        text-align: right;\n",
       "    }\n",
       "</style>\n",
       "<table border=\"1\" class=\"dataframe\">\n",
       "  <thead>\n",
       "    <tr style=\"text-align: right;\">\n",
       "      <th></th>\n",
       "      <th>User_ID</th>\n",
       "      <th>Calories</th>\n",
       "    </tr>\n",
       "  </thead>\n",
       "  <tbody>\n",
       "    <tr>\n",
       "      <th>0</th>\n",
       "      <td>14733363</td>\n",
       "      <td>231.0</td>\n",
       "    </tr>\n",
       "    <tr>\n",
       "      <th>1</th>\n",
       "      <td>14861698</td>\n",
       "      <td>66.0</td>\n",
       "    </tr>\n",
       "    <tr>\n",
       "      <th>2</th>\n",
       "      <td>11179863</td>\n",
       "      <td>26.0</td>\n",
       "    </tr>\n",
       "    <tr>\n",
       "      <th>3</th>\n",
       "      <td>16180408</td>\n",
       "      <td>71.0</td>\n",
       "    </tr>\n",
       "    <tr>\n",
       "      <th>4</th>\n",
       "      <td>17771927</td>\n",
       "      <td>35.0</td>\n",
       "    </tr>\n",
       "  </tbody>\n",
       "</table>\n",
       "</div>"
      ],
      "text/plain": [
       "    User_ID  Calories\n",
       "0  14733363     231.0\n",
       "1  14861698      66.0\n",
       "2  11179863      26.0\n",
       "3  16180408      71.0\n",
       "4  17771927      35.0"
      ]
     },
     "execution_count": 4,
     "metadata": {},
     "output_type": "execute_result"
    }
   ],
   "source": [
    "calories = pd.read_csv('calories.csv')\n",
    "calories.head()"
   ]
  },
  {
   "cell_type": "code",
   "execution_count": 5,
   "id": "fc5e1e20",
   "metadata": {
    "ExecuteTime": {
     "end_time": "2025-04-05T09:45:34.987348Z",
     "start_time": "2025-04-05T09:45:34.946136Z"
    }
   },
   "outputs": [
    {
     "data": {
      "text/html": [
       "<div>\n",
       "<style scoped>\n",
       "    .dataframe tbody tr th:only-of-type {\n",
       "        vertical-align: middle;\n",
       "    }\n",
       "\n",
       "    .dataframe tbody tr th {\n",
       "        vertical-align: top;\n",
       "    }\n",
       "\n",
       "    .dataframe thead th {\n",
       "        text-align: right;\n",
       "    }\n",
       "</style>\n",
       "<table border=\"1\" class=\"dataframe\">\n",
       "  <thead>\n",
       "    <tr style=\"text-align: right;\">\n",
       "      <th></th>\n",
       "      <th>User_ID</th>\n",
       "      <th>Gender</th>\n",
       "      <th>Age</th>\n",
       "      <th>Height</th>\n",
       "      <th>Weight</th>\n",
       "      <th>Duration</th>\n",
       "      <th>Heart_Rate</th>\n",
       "      <th>Body_Temp</th>\n",
       "    </tr>\n",
       "  </thead>\n",
       "  <tbody>\n",
       "    <tr>\n",
       "      <th>0</th>\n",
       "      <td>14733363</td>\n",
       "      <td>male</td>\n",
       "      <td>68</td>\n",
       "      <td>190.0</td>\n",
       "      <td>94.0</td>\n",
       "      <td>29.0</td>\n",
       "      <td>105.0</td>\n",
       "      <td>40.8</td>\n",
       "    </tr>\n",
       "    <tr>\n",
       "      <th>1</th>\n",
       "      <td>14861698</td>\n",
       "      <td>female</td>\n",
       "      <td>20</td>\n",
       "      <td>166.0</td>\n",
       "      <td>60.0</td>\n",
       "      <td>14.0</td>\n",
       "      <td>94.0</td>\n",
       "      <td>40.3</td>\n",
       "    </tr>\n",
       "    <tr>\n",
       "      <th>2</th>\n",
       "      <td>11179863</td>\n",
       "      <td>male</td>\n",
       "      <td>69</td>\n",
       "      <td>179.0</td>\n",
       "      <td>79.0</td>\n",
       "      <td>5.0</td>\n",
       "      <td>88.0</td>\n",
       "      <td>38.7</td>\n",
       "    </tr>\n",
       "    <tr>\n",
       "      <th>3</th>\n",
       "      <td>16180408</td>\n",
       "      <td>female</td>\n",
       "      <td>34</td>\n",
       "      <td>179.0</td>\n",
       "      <td>71.0</td>\n",
       "      <td>13.0</td>\n",
       "      <td>100.0</td>\n",
       "      <td>40.5</td>\n",
       "    </tr>\n",
       "    <tr>\n",
       "      <th>4</th>\n",
       "      <td>17771927</td>\n",
       "      <td>female</td>\n",
       "      <td>27</td>\n",
       "      <td>154.0</td>\n",
       "      <td>58.0</td>\n",
       "      <td>10.0</td>\n",
       "      <td>81.0</td>\n",
       "      <td>39.8</td>\n",
       "    </tr>\n",
       "  </tbody>\n",
       "</table>\n",
       "</div>"
      ],
      "text/plain": [
       "    User_ID  Gender  Age  Height  Weight  Duration  Heart_Rate  Body_Temp\n",
       "0  14733363    male   68   190.0    94.0      29.0       105.0       40.8\n",
       "1  14861698  female   20   166.0    60.0      14.0        94.0       40.3\n",
       "2  11179863    male   69   179.0    79.0       5.0        88.0       38.7\n",
       "3  16180408  female   34   179.0    71.0      13.0       100.0       40.5\n",
       "4  17771927  female   27   154.0    58.0      10.0        81.0       39.8"
      ]
     },
     "execution_count": 5,
     "metadata": {},
     "output_type": "execute_result"
    }
   ],
   "source": [
    "exercise_data = pd.read_csv('exercise.csv')\n",
    "exercise_data.head()"
   ]
  },
  {
   "cell_type": "markdown",
   "id": "8e094df1",
   "metadata": {},
   "source": [
    "#### Combining the two Dataframes"
   ]
  },
  {
   "cell_type": "code",
   "execution_count": 6,
   "id": "7f9101b7",
   "metadata": {
    "ExecuteTime": {
     "end_time": "2025-04-05T09:45:37.083937Z",
     "start_time": "2025-04-05T09:45:37.055750Z"
    }
   },
   "outputs": [
    {
     "data": {
      "text/html": [
       "<div>\n",
       "<style scoped>\n",
       "    .dataframe tbody tr th:only-of-type {\n",
       "        vertical-align: middle;\n",
       "    }\n",
       "\n",
       "    .dataframe tbody tr th {\n",
       "        vertical-align: top;\n",
       "    }\n",
       "\n",
       "    .dataframe thead th {\n",
       "        text-align: right;\n",
       "    }\n",
       "</style>\n",
       "<table border=\"1\" class=\"dataframe\">\n",
       "  <thead>\n",
       "    <tr style=\"text-align: right;\">\n",
       "      <th></th>\n",
       "      <th>User_ID</th>\n",
       "      <th>Gender</th>\n",
       "      <th>Age</th>\n",
       "      <th>Height</th>\n",
       "      <th>Weight</th>\n",
       "      <th>Duration</th>\n",
       "      <th>Heart_Rate</th>\n",
       "      <th>Body_Temp</th>\n",
       "      <th>Calories</th>\n",
       "    </tr>\n",
       "  </thead>\n",
       "  <tbody>\n",
       "    <tr>\n",
       "      <th>0</th>\n",
       "      <td>14733363</td>\n",
       "      <td>male</td>\n",
       "      <td>68</td>\n",
       "      <td>190.0</td>\n",
       "      <td>94.0</td>\n",
       "      <td>29.0</td>\n",
       "      <td>105.0</td>\n",
       "      <td>40.8</td>\n",
       "      <td>231.0</td>\n",
       "    </tr>\n",
       "    <tr>\n",
       "      <th>1</th>\n",
       "      <td>14861698</td>\n",
       "      <td>female</td>\n",
       "      <td>20</td>\n",
       "      <td>166.0</td>\n",
       "      <td>60.0</td>\n",
       "      <td>14.0</td>\n",
       "      <td>94.0</td>\n",
       "      <td>40.3</td>\n",
       "      <td>66.0</td>\n",
       "    </tr>\n",
       "    <tr>\n",
       "      <th>2</th>\n",
       "      <td>11179863</td>\n",
       "      <td>male</td>\n",
       "      <td>69</td>\n",
       "      <td>179.0</td>\n",
       "      <td>79.0</td>\n",
       "      <td>5.0</td>\n",
       "      <td>88.0</td>\n",
       "      <td>38.7</td>\n",
       "      <td>26.0</td>\n",
       "    </tr>\n",
       "    <tr>\n",
       "      <th>3</th>\n",
       "      <td>16180408</td>\n",
       "      <td>female</td>\n",
       "      <td>34</td>\n",
       "      <td>179.0</td>\n",
       "      <td>71.0</td>\n",
       "      <td>13.0</td>\n",
       "      <td>100.0</td>\n",
       "      <td>40.5</td>\n",
       "      <td>71.0</td>\n",
       "    </tr>\n",
       "    <tr>\n",
       "      <th>4</th>\n",
       "      <td>17771927</td>\n",
       "      <td>female</td>\n",
       "      <td>27</td>\n",
       "      <td>154.0</td>\n",
       "      <td>58.0</td>\n",
       "      <td>10.0</td>\n",
       "      <td>81.0</td>\n",
       "      <td>39.8</td>\n",
       "      <td>35.0</td>\n",
       "    </tr>\n",
       "  </tbody>\n",
       "</table>\n",
       "</div>"
      ],
      "text/plain": [
       "    User_ID  Gender  Age  Height  Weight  Duration  Heart_Rate  Body_Temp  \\\n",
       "0  14733363    male   68   190.0    94.0      29.0       105.0       40.8   \n",
       "1  14861698  female   20   166.0    60.0      14.0        94.0       40.3   \n",
       "2  11179863    male   69   179.0    79.0       5.0        88.0       38.7   \n",
       "3  16180408  female   34   179.0    71.0      13.0       100.0       40.5   \n",
       "4  17771927  female   27   154.0    58.0      10.0        81.0       39.8   \n",
       "\n",
       "   Calories  \n",
       "0     231.0  \n",
       "1      66.0  \n",
       "2      26.0  \n",
       "3      71.0  \n",
       "4      35.0  "
      ]
     },
     "execution_count": 6,
     "metadata": {},
     "output_type": "execute_result"
    }
   ],
   "source": [
    "#Merging two datasets using User_ID\n",
    "calories_data = exercise_data.merge(calories, on=\"User_ID\")\n",
    "calories_data.head()"
   ]
  },
  {
   "cell_type": "code",
   "execution_count": 7,
   "id": "22880f05",
   "metadata": {
    "ExecuteTime": {
     "end_time": "2025-04-05T09:45:37.798189Z",
     "start_time": "2025-04-05T09:45:37.784190Z"
    }
   },
   "outputs": [
    {
     "data": {
      "text/plain": [
       "(15000, 9)"
      ]
     },
     "execution_count": 7,
     "metadata": {},
     "output_type": "execute_result"
    }
   ],
   "source": [
    "#Check final dataset\n",
    "calories_data.shape"
   ]
  },
  {
   "cell_type": "code",
   "execution_count": 8,
   "id": "53a7bd26",
   "metadata": {
    "ExecuteTime": {
     "end_time": "2025-04-05T09:45:38.653020Z",
     "start_time": "2025-04-05T09:45:38.633461Z"
    }
   },
   "outputs": [
    {
     "name": "stdout",
     "output_type": "stream",
     "text": [
      "<class 'pandas.core.frame.DataFrame'>\n",
      "RangeIndex: 15000 entries, 0 to 14999\n",
      "Data columns (total 9 columns):\n",
      " #   Column      Non-Null Count  Dtype  \n",
      "---  ------      --------------  -----  \n",
      " 0   User_ID     15000 non-null  int64  \n",
      " 1   Gender      15000 non-null  object \n",
      " 2   Age         15000 non-null  int64  \n",
      " 3   Height      15000 non-null  float64\n",
      " 4   Weight      15000 non-null  float64\n",
      " 5   Duration    15000 non-null  float64\n",
      " 6   Heart_Rate  15000 non-null  float64\n",
      " 7   Body_Temp   15000 non-null  float64\n",
      " 8   Calories    15000 non-null  float64\n",
      "dtypes: float64(6), int64(2), object(1)\n",
      "memory usage: 1.0+ MB\n"
     ]
    }
   ],
   "source": [
    "#Check dataset info \n",
    "calories_data.info()"
   ]
  },
  {
   "cell_type": "markdown",
   "id": "a47f571e",
   "metadata": {
    "ExecuteTime": {
     "end_time": "2025-04-05T09:00:45.171456Z",
     "start_time": "2025-04-05T09:00:45.163550Z"
    }
   },
   "source": [
    "### Processing"
   ]
  },
  {
   "cell_type": "markdown",
   "id": "65647178",
   "metadata": {
    "ExecuteTime": {
     "end_time": "2025-04-05T09:01:02.947383Z",
     "start_time": "2025-04-05T09:01:02.932213Z"
    }
   },
   "source": [
    "#### Check for missing values"
   ]
  },
  {
   "cell_type": "code",
   "execution_count": 9,
   "id": "0480cf30",
   "metadata": {
    "ExecuteTime": {
     "end_time": "2025-04-05T09:45:41.180259Z",
     "start_time": "2025-04-05T09:45:41.167634Z"
    }
   },
   "outputs": [
    {
     "data": {
      "text/plain": [
       "User_ID       0\n",
       "Gender        0\n",
       "Age           0\n",
       "Height        0\n",
       "Weight        0\n",
       "Duration      0\n",
       "Heart_Rate    0\n",
       "Body_Temp     0\n",
       "Calories      0\n",
       "dtype: int64"
      ]
     },
     "execution_count": 9,
     "metadata": {},
     "output_type": "execute_result"
    }
   ],
   "source": [
    "calories_data.isnull().sum()"
   ]
  },
  {
   "cell_type": "markdown",
   "id": "3dfb91cf",
   "metadata": {
    "ExecuteTime": {
     "end_time": "2025-04-05T09:04:56.323686Z",
     "start_time": "2025-04-05T09:04:56.315119Z"
    }
   },
   "source": [
    "#### Encode gender column that is object type"
   ]
  },
  {
   "cell_type": "code",
   "execution_count": 10,
   "id": "f86e038f",
   "metadata": {
    "ExecuteTime": {
     "end_time": "2025-04-05T09:45:42.361143Z",
     "start_time": "2025-04-05T09:45:42.348060Z"
    }
   },
   "outputs": [],
   "source": [
    "le = LabelEncoder()\n",
    "calories_data['Gender'] = le.fit_transform(calories_data['Gender'])"
   ]
  },
  {
   "cell_type": "markdown",
   "id": "e0b9bb4e",
   "metadata": {},
   "source": [
    "#### Statistical summary"
   ]
  },
  {
   "cell_type": "code",
   "execution_count": 11,
   "id": "c9cceb30",
   "metadata": {
    "ExecuteTime": {
     "end_time": "2025-04-05T09:45:43.763787Z",
     "start_time": "2025-04-05T09:45:43.703478Z"
    }
   },
   "outputs": [
    {
     "data": {
      "text/html": [
       "<div>\n",
       "<style scoped>\n",
       "    .dataframe tbody tr th:only-of-type {\n",
       "        vertical-align: middle;\n",
       "    }\n",
       "\n",
       "    .dataframe tbody tr th {\n",
       "        vertical-align: top;\n",
       "    }\n",
       "\n",
       "    .dataframe thead th {\n",
       "        text-align: right;\n",
       "    }\n",
       "</style>\n",
       "<table border=\"1\" class=\"dataframe\">\n",
       "  <thead>\n",
       "    <tr style=\"text-align: right;\">\n",
       "      <th></th>\n",
       "      <th>User_ID</th>\n",
       "      <th>Gender</th>\n",
       "      <th>Age</th>\n",
       "      <th>Height</th>\n",
       "      <th>Weight</th>\n",
       "      <th>Duration</th>\n",
       "      <th>Heart_Rate</th>\n",
       "      <th>Body_Temp</th>\n",
       "      <th>Calories</th>\n",
       "    </tr>\n",
       "  </thead>\n",
       "  <tbody>\n",
       "    <tr>\n",
       "      <th>count</th>\n",
       "      <td>1.500000e+04</td>\n",
       "      <td>15000.000000</td>\n",
       "      <td>15000.000000</td>\n",
       "      <td>15000.000000</td>\n",
       "      <td>15000.000000</td>\n",
       "      <td>15000.000000</td>\n",
       "      <td>15000.000000</td>\n",
       "      <td>15000.000000</td>\n",
       "      <td>15000.000000</td>\n",
       "    </tr>\n",
       "    <tr>\n",
       "      <th>mean</th>\n",
       "      <td>1.497736e+07</td>\n",
       "      <td>0.496467</td>\n",
       "      <td>42.789800</td>\n",
       "      <td>174.465133</td>\n",
       "      <td>74.966867</td>\n",
       "      <td>15.530600</td>\n",
       "      <td>95.518533</td>\n",
       "      <td>40.025453</td>\n",
       "      <td>89.539533</td>\n",
       "    </tr>\n",
       "    <tr>\n",
       "      <th>std</th>\n",
       "      <td>2.872851e+06</td>\n",
       "      <td>0.500004</td>\n",
       "      <td>16.980264</td>\n",
       "      <td>14.258114</td>\n",
       "      <td>15.035657</td>\n",
       "      <td>8.319203</td>\n",
       "      <td>9.583328</td>\n",
       "      <td>0.779230</td>\n",
       "      <td>62.456978</td>\n",
       "    </tr>\n",
       "    <tr>\n",
       "      <th>min</th>\n",
       "      <td>1.000116e+07</td>\n",
       "      <td>0.000000</td>\n",
       "      <td>20.000000</td>\n",
       "      <td>123.000000</td>\n",
       "      <td>36.000000</td>\n",
       "      <td>1.000000</td>\n",
       "      <td>67.000000</td>\n",
       "      <td>37.100000</td>\n",
       "      <td>1.000000</td>\n",
       "    </tr>\n",
       "    <tr>\n",
       "      <th>25%</th>\n",
       "      <td>1.247419e+07</td>\n",
       "      <td>0.000000</td>\n",
       "      <td>28.000000</td>\n",
       "      <td>164.000000</td>\n",
       "      <td>63.000000</td>\n",
       "      <td>8.000000</td>\n",
       "      <td>88.000000</td>\n",
       "      <td>39.600000</td>\n",
       "      <td>35.000000</td>\n",
       "    </tr>\n",
       "    <tr>\n",
       "      <th>50%</th>\n",
       "      <td>1.499728e+07</td>\n",
       "      <td>0.000000</td>\n",
       "      <td>39.000000</td>\n",
       "      <td>175.000000</td>\n",
       "      <td>74.000000</td>\n",
       "      <td>16.000000</td>\n",
       "      <td>96.000000</td>\n",
       "      <td>40.200000</td>\n",
       "      <td>79.000000</td>\n",
       "    </tr>\n",
       "    <tr>\n",
       "      <th>75%</th>\n",
       "      <td>1.744928e+07</td>\n",
       "      <td>1.000000</td>\n",
       "      <td>56.000000</td>\n",
       "      <td>185.000000</td>\n",
       "      <td>87.000000</td>\n",
       "      <td>23.000000</td>\n",
       "      <td>103.000000</td>\n",
       "      <td>40.600000</td>\n",
       "      <td>138.000000</td>\n",
       "    </tr>\n",
       "    <tr>\n",
       "      <th>max</th>\n",
       "      <td>1.999965e+07</td>\n",
       "      <td>1.000000</td>\n",
       "      <td>79.000000</td>\n",
       "      <td>222.000000</td>\n",
       "      <td>132.000000</td>\n",
       "      <td>30.000000</td>\n",
       "      <td>128.000000</td>\n",
       "      <td>41.500000</td>\n",
       "      <td>314.000000</td>\n",
       "    </tr>\n",
       "  </tbody>\n",
       "</table>\n",
       "</div>"
      ],
      "text/plain": [
       "            User_ID        Gender           Age        Height        Weight  \\\n",
       "count  1.500000e+04  15000.000000  15000.000000  15000.000000  15000.000000   \n",
       "mean   1.497736e+07      0.496467     42.789800    174.465133     74.966867   \n",
       "std    2.872851e+06      0.500004     16.980264     14.258114     15.035657   \n",
       "min    1.000116e+07      0.000000     20.000000    123.000000     36.000000   \n",
       "25%    1.247419e+07      0.000000     28.000000    164.000000     63.000000   \n",
       "50%    1.499728e+07      0.000000     39.000000    175.000000     74.000000   \n",
       "75%    1.744928e+07      1.000000     56.000000    185.000000     87.000000   \n",
       "max    1.999965e+07      1.000000     79.000000    222.000000    132.000000   \n",
       "\n",
       "           Duration    Heart_Rate     Body_Temp      Calories  \n",
       "count  15000.000000  15000.000000  15000.000000  15000.000000  \n",
       "mean      15.530600     95.518533     40.025453     89.539533  \n",
       "std        8.319203      9.583328      0.779230     62.456978  \n",
       "min        1.000000     67.000000     37.100000      1.000000  \n",
       "25%        8.000000     88.000000     39.600000     35.000000  \n",
       "50%       16.000000     96.000000     40.200000     79.000000  \n",
       "75%       23.000000    103.000000     40.600000    138.000000  \n",
       "max       30.000000    128.000000     41.500000    314.000000  "
      ]
     },
     "execution_count": 11,
     "metadata": {},
     "output_type": "execute_result"
    }
   ],
   "source": [
    "calories_data.describe()"
   ]
  },
  {
   "cell_type": "markdown",
   "id": "feebce44",
   "metadata": {},
   "source": [
    "- We can see down bellow that regarding gender we have almost balanced dataset with pretty equal man and women group. \n",
    "\n",
    "- Ages vary from 20 years old to 79 years old with median 39 years old that indicate mix of young and older adults skewing little bit towards middle aged patients\n",
    "\n",
    "- The wide standard deviation in height and weight suggest diversity in body types \n",
    "\n",
    "- I verified there were no missing values in the dataset based on consistent counts across all columns\n",
    "\n",
    "- The calorie burn shows a high standard deviation, so I might explore normalization or binning for modeling\n",
    "\n",
    "- Heart rate and body temp being correlated with duration could be interesting for feature engineering or predictive modeling\n",
    "\n",
    "- Outliers are possible — for example, 1 minute duration or 314 calories — I’d visualize this with boxplots or histograms"
   ]
  },
  {
   "cell_type": "markdown",
   "id": "12975827",
   "metadata": {
    "ExecuteTime": {
     "end_time": "2025-04-05T09:17:22.843277Z",
     "start_time": "2025-04-05T09:17:22.839138Z"
    }
   },
   "source": [
    "#### Plot gender"
   ]
  },
  {
   "cell_type": "code",
   "execution_count": 12,
   "id": "fd7613c5",
   "metadata": {
    "ExecuteTime": {
     "end_time": "2025-04-05T09:45:45.735142Z",
     "start_time": "2025-04-05T09:45:45.550459Z"
    }
   },
   "outputs": [
    {
     "data": {
      "text/plain": [
       "<Axes: xlabel='Gender', ylabel='count'>"
      ]
     },
     "execution_count": 12,
     "metadata": {},
     "output_type": "execute_result"
    },
    {
     "data": {
      "image/png": "[encoded data removed]",
      "text/plain": [
       "<Figure size 640x480 with 1 Axes>"
      ]
     },
     "metadata": {},
     "output_type": "display_data"
    }
   ],
   "source": [
    "sns.countplot(data=calories_data, x='Gender', hue='Gender', palette='Set2', legend=False)"
   ]
  },
  {
   "cell_type": "code",
   "execution_count": 13,
   "id": "fd4e7aef",
   "metadata": {
    "ExecuteTime": {
     "end_time": "2025-04-05T09:45:46.638811Z",
     "start_time": "2025-04-05T09:45:46.286957Z"
    }
   },
   "outputs": [
    {
     "data": {
      "text/plain": [
       "<Axes: xlabel='Age', ylabel='Count'>"
      ]
     },
     "execution_count": 13,
     "metadata": {},
     "output_type": "execute_result"
    },
    {
     "data": {
      "image/png": "[encoded data removed]",
      "text/plain": [
       "<Figure size 640x480 with 1 Axes>"
      ]
     },
     "metadata": {},
     "output_type": "display_data"
    }
   ],
   "source": [
    "###Check distributions for age,weight and Height\n",
    "sns.histplot(calories_data['Age'], kde=True)"
   ]
  },
  {
   "cell_type": "code",
   "execution_count": 14,
   "id": "274e0f0f",
   "metadata": {
    "ExecuteTime": {
     "end_time": "2025-04-05T09:45:47.646454Z",
     "start_time": "2025-04-05T09:45:47.272201Z"
    }
   },
   "outputs": [
    {
     "data": {
      "text/plain": [
       "<Axes: xlabel='Height', ylabel='Count'>"
      ]
     },
     "execution_count": 14,
     "metadata": {},
     "output_type": "execute_result"
    },
    {
     "data": {
      "image/png": "[encoded data removed]",
      "text/plain": [
       "<Figure size 640x480 with 1 Axes>"
      ]
     },
     "metadata": {},
     "output_type": "display_data"
    }
   ],
   "source": [
    "sns.histplot(calories_data['Height'], kde=True)"
   ]
  },
  {
   "cell_type": "code",
   "execution_count": 15,
   "id": "5f592d06",
   "metadata": {
    "ExecuteTime": {
     "end_time": "2025-04-05T09:45:48.513237Z",
     "start_time": "2025-04-05T09:45:48.108276Z"
    }
   },
   "outputs": [
    {
     "data": {
      "text/plain": [
       "<Axes: xlabel='Weight', ylabel='Count'>"
      ]
     },
     "execution_count": 15,
     "metadata": {},
     "output_type": "execute_result"
    },
    {
     "data": {
      "image/png": "[encoded data removed]",
      "text/plain": [
       "<Figure size 640x480 with 1 Axes>"
      ]
     },
     "metadata": {},
     "output_type": "display_data"
    }
   ],
   "source": [
    "sns.histplot(calories_data['Weight'], kde=True)"
   ]
  },
  {
   "cell_type": "markdown",
   "id": "dba57049",
   "metadata": {},
   "source": [
    "#### CORELATION HEATMAP\n",
    "\n",
    "- Shows how strongly features are linearly correlated \n",
    "\n",
    "- Helps detect multicollinearity and strongest predictors of Calories"
   ]
  },
  {
   "cell_type": "code",
   "execution_count": 16,
   "id": "7d8e6a18",
   "metadata": {
    "ExecuteTime": {
     "end_time": "2025-04-05T09:45:50.516854Z",
     "start_time": "2025-04-05T09:45:49.949472Z"
    }
   },
   "outputs": [
    {
     "name": "stdout",
     "output_type": "stream",
     "text": [
      "Feature correlation with Calories:\n",
      " Calories      1.000000\n",
      "Duration      0.955421\n",
      "Heart_Rate    0.897882\n",
      "Body_Temp     0.824558\n",
      "Age           0.154395\n",
      "Weight        0.035481\n",
      "Gender        0.022357\n",
      "Height        0.017537\n",
      "User_ID      -0.001661\n",
      "Name: Calories, dtype: float64\n"
     ]
    },
    {
     "data": {
      "image/png": "[encoded data removed]",
      "text/plain": [
       "<Figure size 1000x1000 with 2 Axes>"
      ]
     },
     "metadata": {},
     "output_type": "display_data"
    }
   ],
   "source": [
    "correlation = calories_data.corr()\n",
    "plt.figure(figsize=(10,10))\n",
    "sns.heatmap(correlation, cbar=True, square=True, fmt='.1f', annot=True, annot_kws={'size':8}, cmap='Blues')\n",
    "corr_target = correlation['Calories'].sort_values(ascending=False)\n",
    "print(\"Feature correlation with Calories:\\n\", corr_target)"
   ]
  },
  {
   "cell_type": "markdown",
   "id": "d0374316",
   "metadata": {
    "ExecuteTime": {
     "end_time": "2025-04-05T09:34:51.330275Z",
     "start_time": "2025-04-05T09:34:51.313748Z"
    }
   },
   "source": [
    "### Feature target split"
   ]
  },
  {
   "cell_type": "code",
   "execution_count": 17,
   "id": "79e97b17",
   "metadata": {
    "ExecuteTime": {
     "end_time": "2025-04-05T09:45:52.050673Z",
     "start_time": "2025-04-05T09:45:52.041891Z"
    }
   },
   "outputs": [],
   "source": [
    "#User_ID excluded, not predictive\n",
    "X = calories_data.drop(columns=['User_ID', 'Calories'], axis=1)\n",
    "Y = calories_data['Calories']"
   ]
  },
  {
   "cell_type": "markdown",
   "id": "be5b01e9",
   "metadata": {},
   "source": [
    "### Train-Test split "
   ]
  },
  {
   "cell_type": "code",
   "execution_count": 18,
   "id": "ee917eca",
   "metadata": {
    "ExecuteTime": {
     "end_time": "2025-04-05T09:45:53.399073Z",
     "start_time": "2025-04-05T09:45:53.382836Z"
    }
   },
   "outputs": [],
   "source": [
    "X_train, X_test, Y_train, Y_test = train_test_split(X, Y, test_size=0.2, random_state=2)"
   ]
  },
  {
   "cell_type": "markdown",
   "id": "bb2c4aa8",
   "metadata": {},
   "source": [
    "### Create model "
   ]
  },
  {
   "cell_type": "code",
   "execution_count": 21,
   "id": "82fcbe98",
   "metadata": {},
   "outputs": [
    {
     "name": "stderr",
     "output_type": "stream",
     "text": [
      "2025-04-06 18:22:48,597 - INFO - HTTP Request: GET https://dagshub.com/api/v1/repos/vucina19931906/Calories-Burnt-Predictor \"HTTP/1.1 200 OK\"\n"
     ]
    },
    {
     "data": {
      "text/html": [
       "<pre style=\"white-space:pre;overflow-x:auto;line-height:normal;font-family:Menlo,'DejaVu Sans Mono',consolas,'Courier New',monospace\">Initialized MLflow to track repo <span style=\"color: #008000; text-decoration-color: #008000\">\"vucina19931906/Calories-Burnt-Predictor\"</span>\n",
       "</pre>\n"
      ],
      "text/plain": [
       "Initialized MLflow to track repo \u001b[32m\"vucina19931906/Calories-Burnt-Predictor\"\u001b[0m\n"
      ]
     },
     "metadata": {},
     "output_type": "display_data"
    },
    {
     "name": "stderr",
     "output_type": "stream",
     "text": [
      "2025-04-06 18:22:48,605 - INFO - Initialized MLflow to track repo \"vucina19931906/Calories-Burnt-Predictor\"\n"
     ]
    },
    {
     "data": {
      "text/html": [
       "<pre style=\"white-space:pre;overflow-x:auto;line-height:normal;font-family:Menlo,'DejaVu Sans Mono',consolas,'Courier New',monospace\">Repository vucina19931906/Calories-Burnt-Predictor initialized!\n",
       "</pre>\n"
      ],
      "text/plain": [
       "Repository vucina19931906/Calories-Burnt-Predictor initialized!\n"
      ]
     },
     "metadata": {},
     "output_type": "display_data"
    },
    {
     "name": "stderr",
     "output_type": "stream",
     "text": [
      "2025-04-06 18:22:48,609 - INFO - Repository vucina19931906/Calories-Burnt-Predictor initialized!\n",
      "2025-04-06 18:22:48,870 - INFO - Starting MLflow run...\n",
      "2025-04-06 18:22:49,113 - INFO - Initializing XGBoost Regressor with base parameters...\n",
      "2025-04-06 18:22:49,124 - INFO - Fitting the model on training data...\n",
      "2025-04-06 18:22:49,818 - INFO - Model training complete.\n",
      "2025-04-06 18:22:49,820 - INFO - Making predictions on test data...\n",
      "2025-04-06 18:22:49,846 - INFO - Calculating evaluation metrics...\n",
      "2025-04-06 18:22:49,853 - INFO - Logging model parameters and metrics to MLflow...\n",
      "2025-04-06 18:22:50,338 - INFO - Saving and logging the trained model artifact...\n",
      "2025/04/06 18:22:57 WARNING mlflow.models.model: Model logged without a signature and input example. Please set `input_example` parameter when logging the model to auto infer the model signature.\n",
      "2025-04-06 18:23:00,341 - INFO - Training and logging completed in 11.23 seconds.\n",
      "2025-04-06 18:23:00,344 - INFO - MAE: 0.9441\n",
      "2025-04-06 18:23:00,346 - INFO - RMSE: 1.3503\n",
      "2025-04-06 18:23:00,347 - INFO - R²: 0.9995\n"
     ]
    },
    {
     "name": "stdout",
     "output_type": "stream",
     "text": [
      "🏃 View run xgboost-base-model at: https://dagshub.com/vucina19931906/Calories-Burnt-Predictor.mlflow/#/experiments/0/runs/a60d39bd3b7847248493ef355e7abc2d\n",
      "🧪 View experiment at: https://dagshub.com/vucina19931906/Calories-Burnt-Predictor.mlflow/#/experiments/0\n"
     ]
    }
   ],
   "source": [
    "# Configure logging\n",
    "logging.basicConfig(level=logging.INFO, format=\"%(asctime)s - %(levelname)s - %(message)s\")\n",
    "\n",
    "# (Optional) DAGsHub tracking URI – replace with your actual URI\n",
    "mlflow.set_tracking_uri(\"https://dagshub.com/vucina19931906/Calories-Burnt-Predictor.mlflow\")\n",
    "dagshub.init(repo_owner='vucina19931906', repo_name='Calories-Burnt-Predictor', mlflow=True)\n",
    "\n",
    "mlflow.set_experiment(\"Calories-Burnt-Predictor\")\n",
    "\n",
    "logging.info(\"Starting MLflow run...\")\n",
    "\n",
    "with mlflow.start_run(run_name=\"xgboost-base-model\"):\n",
    "    start_time = time.time()\n",
    "\n",
    "    try:\n",
    "        logging.info(\"Initializing XGBoost Regressor with base parameters...\")\n",
    "        model = XGBRegressor(\n",
    "            n_estimators=500,\n",
    "            learning_rate=0.1,\n",
    "            max_depth=5,\n",
    "            random_state=42,\n",
    "            n_jobs=-1,\n",
    "            objective=\"reg:squarederror\"\n",
    "        )\n",
    "\n",
    "        logging.info(\"Fitting the model on training data...\")\n",
    "        model.fit(X_train, Y_train)\n",
    "        logging.info(\"Model training complete.\")\n",
    "\n",
    "        logging.info(\"Making predictions on test data...\")\n",
    "        preds = model.predict(X_test)\n",
    "\n",
    "        logging.info(\"Calculating evaluation metrics...\")\n",
    "        mae = mean_absolute_error(Y_test, preds)\n",
    "        rmse = np.sqrt(mean_squared_error(Y_test, preds))\n",
    "        r2 = r2_score(Y_test, preds)\n",
    "\n",
    "        logging.info(\"Logging model parameters and metrics to MLflow...\")\n",
    "        mlflow.log_params(model.get_params())\n",
    "        mlflow.log_metrics({\n",
    "            \"mae\": mae,\n",
    "            \"rmse\": rmse,\n",
    "            \"r2_score\": r2\n",
    "        })\n",
    "\n",
    "        logging.info(\"Saving and logging the trained model artifact...\")\n",
    "        mlflow.sklearn.log_model(model, \"xgboost_model\")\n",
    "\n",
    "        end_time = time.time()\n",
    "        logging.info(f\"Training and logging completed in {end_time - start_time:.2f} seconds.\")\n",
    "\n",
    "        logging.info(f\"MAE: {mae:.4f}\")\n",
    "        logging.info(f\"RMSE: {rmse:.4f}\")\n",
    "        logging.info(f\"R²: {r2:.4f}\")\n",
    "\n",
    "    except Exception as e:\n",
    "        logging.error(f\"An error occurred during MLflow logging: {e}\", exc_info=True)\n",
    "\n"
   ]
  },
  {
   "cell_type": "code",
   "execution_count": null,
   "id": "f42f4002",
   "metadata": {},
   "outputs": [],
   "source": []
  }
 ],
 "metadata": {
  "kernelspec": {
   "display_name": "calories-ml",
   "language": "python",
   "name": "python3"
  },
  "language_info": {
   "codemirror_mode": {
    "name": "ipython",
    "version": 3
   },
   "file_extension": ".py",
   "mimetype": "text/x-python",
   "name": "python",
   "nbconvert_exporter": "python",
   "pygments_lexer": "ipython3",
   "version": "3.10.16"
  },
  "varInspector": {
   "cols": {
    "lenName": 16,
    "lenType": 16,
    "lenVar": 40
   },
   "kernels_config": {
    "python": {
     "delete_cmd_postfix": "",
     "delete_cmd_prefix": "del ",
     "library": "var_list.py",
     "varRefreshCmd": "print(var_dic_list())"
    },
    "r": {
     "delete_cmd_postfix": ") ",
     "delete_cmd_prefix": "rm(",
     "library": "var_list.r",
     "varRefreshCmd": "cat(var_dic_list()) "
    }
   },
   "types_to_exclude": [
    "module",
    "function",
    "builtin_function_or_method",
    "instance",
    "_Feature"
   ],
   "window_display": false
  }
 },
 "nbformat": 4,
 "nbformat_minor": 5
}
